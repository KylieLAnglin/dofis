{
 "cells": [
  {
   "cell_type": "code",
   "execution_count": 1,
   "metadata": {},
   "outputs": [],
   "source": [
    "import pandas as pd\n",
    "import os\n",
    "import re\n",
    "import spacy\n",
    "import en_core_web_sm\n",
    "from spacy.matcher import Matcher\n",
    "from IPython.display import clear_output\n",
    "import pickle"
   ]
  },
  {
   "cell_type": "markdown",
   "metadata": {},
   "source": [
    "# Certification"
   ]
  },
  {
   "cell_type": "code",
   "execution_count": 2,
   "metadata": {},
   "outputs": [
    {
     "data": {
      "text/html": [
       "<div>\n",
       "<style scoped>\n",
       "    .dataframe tbody tr th:only-of-type {\n",
       "        vertical-align: middle;\n",
       "    }\n",
       "\n",
       "    .dataframe tbody tr th {\n",
       "        vertical-align: top;\n",
       "    }\n",
       "\n",
       "    .dataframe thead th {\n",
       "        text-align: right;\n",
       "    }\n",
       "</style>\n",
       "<table border=\"1\" class=\"dataframe\">\n",
       "  <thead>\n",
       "    <tr style=\"text-align: right;\">\n",
       "      <th></th>\n",
       "      <th>Unnamed: 0</th>\n",
       "      <th>district</th>\n",
       "      <th>link</th>\n",
       "      <th>text</th>\n",
       "      <th>variable</th>\n",
       "      <th>value</th>\n",
       "      <th>phrase</th>\n",
       "    </tr>\n",
       "  </thead>\n",
       "  <tbody>\n",
       "    <tr>\n",
       "      <th>0</th>\n",
       "      <td>1</td>\n",
       "      <td>Abernathy ISD</td>\n",
       "      <td>https://1.cdn.edl.io/epGD4mZXjWUcPl8yA7IhlcDol...</td>\n",
       "      <td>Abernathy ISD District of Innovation Plan – Dr...</td>\n",
       "      <td>reg21_003</td>\n",
       "      <td>1</td>\n",
       "      <td>|21.003; TEC§ 21.057 The principal may submit ...</td>\n",
       "    </tr>\n",
       "    <tr>\n",
       "      <th>1</th>\n",
       "      <td>2</td>\n",
       "      <td>Abilene ISD</td>\n",
       "      <td>https://www.abileneisd.org/wp-content/uploads/...</td>\n",
       "      <td>0 ABILENE INDEPENDENT SCHOOL DISTRICT Local In...</td>\n",
       "      <td>reg21_003</td>\n",
       "      <td>1</td>\n",
       "      <td>|21.003 (a); T.E.C. Section §21.053 (a)-(b); C...</td>\n",
       "    </tr>\n",
       "    <tr>\n",
       "      <th>2</th>\n",
       "      <td>3</td>\n",
       "      <td>Academy ISD</td>\n",
       "      <td>https://4.files.edl.io/1a8f/06/29/18/204245-44...</td>\n",
       "      <td>District of Innovation Plan Developed in coope...</td>\n",
       "      <td>reg21_003</td>\n",
       "      <td>1</td>\n",
       "      <td>|21.003, 21.053,|21.003, 21.053,</td>\n",
       "    </tr>\n",
       "    <tr>\n",
       "      <th>3</th>\n",
       "      <td>4</td>\n",
       "      <td>Adrian ISD</td>\n",
       "      <td>http://www.adrianisd.net/UserFiles/Servers/Ser...</td>\n",
       "      <td>Adrian ISD District of Innovation Plan House B...</td>\n",
       "      <td>reg21_003</td>\n",
       "      <td>1</td>\n",
       "      <td>|21.003 DK LEGAL Current TEC §21.003 states a ...</td>\n",
       "    </tr>\n",
       "    <tr>\n",
       "      <th>4</th>\n",
       "      <td>5</td>\n",
       "      <td>Agua Dulce ISD</td>\n",
       "      <td>https://tx02206063.schoolwires.net/cms/lib/TX0...</td>\n",
       "      <td>Microsoft Word - DOI 2017-2022.docx Agua Dulce...</td>\n",
       "      <td>reg21_003</td>\n",
       "      <td>1</td>\n",
       "      <td>|21.003. CERTIFICATION REQUIRED. (a) A person ...</td>\n",
       "    </tr>\n",
       "  </tbody>\n",
       "</table>\n",
       "</div>"
      ],
      "text/plain": [
       "   Unnamed: 0        district  \\\n",
       "0           1   Abernathy ISD   \n",
       "1           2     Abilene ISD   \n",
       "2           3     Academy ISD   \n",
       "3           4      Adrian ISD   \n",
       "4           5  Agua Dulce ISD   \n",
       "\n",
       "                                                link  \\\n",
       "0  https://1.cdn.edl.io/epGD4mZXjWUcPl8yA7IhlcDol...   \n",
       "1  https://www.abileneisd.org/wp-content/uploads/...   \n",
       "2  https://4.files.edl.io/1a8f/06/29/18/204245-44...   \n",
       "3  http://www.adrianisd.net/UserFiles/Servers/Ser...   \n",
       "4  https://tx02206063.schoolwires.net/cms/lib/TX0...   \n",
       "\n",
       "                                                text   variable  value  \\\n",
       "0  Abernathy ISD District of Innovation Plan – Dr...  reg21_003      1   \n",
       "1  0 ABILENE INDEPENDENT SCHOOL DISTRICT Local In...  reg21_003      1   \n",
       "2  District of Innovation Plan Developed in coope...  reg21_003      1   \n",
       "3  Adrian ISD District of Innovation Plan House B...  reg21_003      1   \n",
       "4  Microsoft Word - DOI 2017-2022.docx Agua Dulce...  reg21_003      1   \n",
       "\n",
       "                                              phrase  \n",
       "0  |21.003; TEC§ 21.057 The principal may submit ...  \n",
       "1  |21.003 (a); T.E.C. Section §21.053 (a)-(b); C...  \n",
       "2                   |21.003, 21.053,|21.003, 21.053,  \n",
       "3  |21.003 DK LEGAL Current TEC §21.003 states a ...  \n",
       "4  |21.003. CERTIFICATION REQUIRED. (a) A person ...  "
      ]
     },
     "execution_count": 2,
     "metadata": {},
     "output_type": "execute_result"
    }
   ],
   "source": [
    "data_path = '/Users/kylieleblancKylie/domino/dofis/data/clean/text'\n",
    "\n",
    "docs = pd.read_csv(os.path.join(data_path, 'phrases_certification.csv'),\n",
    "                  sep=\",\")\n",
    "docs.head()"
   ]
  },
  {
   "cell_type": "code",
   "execution_count": 3,
   "metadata": {},
   "outputs": [],
   "source": [
    "docs_to_label = docs.sample(n = 50, random_state = 45)\n",
    "docs_to_label = docs_to_label[['phrase', 'link']]\n",
    "docs_to_label = docs_to_label.rename({'phrase': 'text', 'link': 'source'}, axis = 1)"
   ]
  },
  {
   "cell_type": "markdown",
   "metadata": {},
   "source": [
    "I have three hypotheses for how/why districts might use the certification exemption:\n",
    "\n",
    "1. They might use the exemption for hard-to-staff subjects. This might mean they aren't looking as hard or they are doing they best they can to find a certified candidate and would have needed an emergency certification from the state anyway. \n",
    "\n",
    "2. They might think the best applicant is not certified and so will use exemptions to hire that candidate.\n",
    "\n",
    "3. They might use the exemption to avoid hiring new teachers and simply se teachers that are not certifed in a specific area.\n",
    "\n",
    "For the first hypothesis, I code mentions of \"hard-to-staff\" or \"bureacratic hurdles of emergency certification\". I also code for specific mentions of CTE (as more of an FYI). For the second, I code phrases indicating that candidates will be considered based on other criteria. For the third, I code for whether the school district plans to shift around certified candidates to areas they are not certified.\n",
    "\n",
    "If plans discuss alternative qualification without discussing difficulties in staffing, then these districts might be thinking like \"No Excuses\" charters."
   ]
  },
  {
   "cell_type": "code",
   "execution_count": 4,
   "metadata": {},
   "outputs": [],
   "source": [
    "relabel_docs = True\n",
    "hard_to_staff = []\n",
    "cte = []\n",
    "alt_qual = []\n",
    "out_of_subject = []"
   ]
  },
  {
   "cell_type": "code",
   "execution_count": null,
   "metadata": {},
   "outputs": [],
   "source": [
    "if relabel_docs:\n",
    "    for text, source in zip(docs_to_label.text[0:10], docs_to_label.source[0:10]):\n",
    "        show = str(source) + str(text)\n",
    "        \n",
    "        annotation = input(show + \"Mentions other hard-to-fill positions?\")\n",
    "        hard_to_staff.append(annotation)\n",
    "        \n",
    "        annotation = input(show + \"CTE specifically?\")\n",
    "        cte.append(annotation)\n",
    "        \n",
    "        annotation = input(show + \"Metions alternative qualifications?\")\n",
    "        alt_qual.append(annotation)\n",
    "        \n",
    "        annotation = input(show + \"Metions using out-of-subject certified teachers\")\n",
    "        out_of_subject.append(annotation)\n",
    "                           \n",
    "        clear_output()"
   ]
  },
  {
   "cell_type": "code",
   "execution_count": 16,
   "metadata": {
    "collapsed": true
   },
   "outputs": [],
   "source": [
    "hard_to_staff = hard_to_staff[0:10]\n",
    "cte = cte[0:10]\n",
    "alt_qual = alt_qual[0:10]\n",
    "out_of_subject = out_of_subject[0:10]"
   ]
  },
  {
   "cell_type": "code",
   "execution_count": 14,
   "metadata": {},
   "outputs": [
    {
     "data": {
      "text/plain": [
       "216    |21.003 - A person may not be employed as a te...\n",
       "64     |21.003) Currently In the event a district can...\n",
       "48     |21.003) Currently In the event a district can...\n",
       "63     |21.003 Current Law: In the event a district c...\n",
       "18                                                   NaN\n",
       "446    |21.003, 21.053 and 21.057) Sec. 21.003. CERTI...\n",
       "565    |21.003, 21.053, and 21.057) DK (LEGAL) State ...\n",
       "61     |21.003) Current Statute: A person may not be ...\n",
       "102                                                  NaN\n",
       "356    |21.003 Certification Required 2. TEC|21.003 r...\n",
       "Name: text, dtype: object"
      ]
     },
     "execution_count": 14,
     "metadata": {},
     "output_type": "execute_result"
    }
   ],
   "source": [
    "docs_to_label.text[10:20]"
   ]
  },
  {
   "cell_type": "code",
   "execution_count": 17,
   "metadata": {},
   "outputs": [],
   "source": [
    "if relabel_docs:\n",
    "        for text, source in zip(docs_to_label.text[10:20], docs_to_label.source[10:20]):\n",
    "            show = str(source) + str(text)\n",
    "\n",
    "            annotation = input(show + \"Mentions hard-to-fill positions?\")\n",
    "            hard_to_staff.append(annotation)\n",
    "\n",
    "            annotation = input(\"CTE specifically?\")\n",
    "            cte.append(annotation)\n",
    "\n",
    "            annotation = input(\"Metions alternative qualifications?\")\n",
    "            alt_qual.append(annotation)\n",
    "\n",
    "            annotation = input(\"Metions using out-of-subject certified teachers\")\n",
    "            out_of_subject.append(annotation)\n",
    "\n",
    "            clear_output()"
   ]
  },
  {
   "cell_type": "code",
   "execution_count": 18,
   "metadata": {
    "collapsed": true
   },
   "outputs": [],
   "source": [
    "hard_to_staff = hard_to_staff[0:20]\n",
    "cte = cte[0:20]\n",
    "alt_qual = alt_qual[0:20]\n",
    "out_of_subject = out_of_subject[0:20]"
   ]
  },
  {
   "cell_type": "code",
   "execution_count": 19,
   "metadata": {},
   "outputs": [],
   "source": [
    "if relabel_docs:\n",
    "        for text, source in zip(docs_to_label.text[20:30], docs_to_label.source[20:30]):\n",
    "            show = str(source) + str(text)\n",
    "\n",
    "            annotation = input(show + \"Mentions hard-to-fill positions?\")\n",
    "            hard_to_staff.append(annotation)\n",
    "\n",
    "            annotation = input(\"CTE specifically?\")\n",
    "            cte.append(annotation)\n",
    "\n",
    "            annotation = input(\"Metions alternative qualifications?\")\n",
    "            alt_qual.append(annotation)\n",
    "\n",
    "            annotation = input(\"Metions using out-of-subject certified teachers\")\n",
    "            out_of_subject.append(annotation)\n",
    "\n",
    "            clear_output()"
   ]
  },
  {
   "cell_type": "code",
   "execution_count": null,
   "metadata": {
    "collapsed": true
   },
   "outputs": [],
   "source": [
    "hard_to_staff = hard_to_staff[0:30]\n",
    "cte = cte[0:30]\n",
    "alt_qual = alt_qual[0:30]\n",
    "out_of_subject = out_of_subject[0:30]"
   ]
  },
  {
   "cell_type": "code",
   "execution_count": 35,
   "metadata": {
    "collapsed": true
   },
   "outputs": [],
   "source": [
    "to_pickle = [docs_to_label.text, docs_to_label.source, hard_to_staff, cte, alt_qual, out_of_subject]\n",
    "filename = data_path + 'coding_certification'\n",
    "outfile = open(filename,'wb')\n",
    "pickle.dump(to_pickle,outfile)\n",
    "outfile.close()"
   ]
  },
  {
   "cell_type": "code",
   "execution_count": 37,
   "metadata": {},
   "outputs": [],
   "source": [
    "infile = open(filename,'rb')\n",
    "labelled_docs = pickle.load(infile)\n",
    "infile.close()"
   ]
  },
  {
   "cell_type": "code",
   "execution_count": 50,
   "metadata": {},
   "outputs": [],
   "source": [
    "text = labelled_docs[0]\n",
    "source = labelled_docs[1]\n",
    "hard_to_staff = [int(x) for x in labelled_docs[2] if (x == '0') | (x== '1')] \n",
    "cte = [int(x) for x in labelled_docs[3] if (x == '0') | (x== '1')] \n",
    "alt_qual = [int(x) for x in labelled_docs[4] if (x == '0') | (x== '1')] \n",
    "out_of_subject = [int(x) for x in labelled_docs[5] if (x == '0') | (x== '1')] "
   ]
  },
  {
   "cell_type": "code",
   "execution_count": 25,
   "metadata": {},
   "outputs": [
    {
     "data": {
      "text/plain": [
       "23"
      ]
     },
     "execution_count": 25,
     "metadata": {},
     "output_type": "execute_result"
    }
   ],
   "source": [
    "filtered = [x for x in hard_to_staff if x == '1']\n",
    "len(filtered)"
   ]
  },
  {
   "cell_type": "code",
   "execution_count": 59,
   "metadata": {},
   "outputs": [
    {
     "name": "stdout",
     "output_type": "stream",
     "text": [
      "Mentions hard-to-fill positions:  0.8214285714285714\n",
      "Mentions CTE:  0.9655172413793104\n",
      "Mentions alternative qualifications:  0.3103448275862069\n",
      "Mentions out-of-subject certified teachers:  0.7586206896551724\n"
     ]
    }
   ],
   "source": [
    "print(\"Mentions hard-to-fill positions: \", sum(hard_to_staff)/len(hard_to_staff))\n",
    "print(\"Mentions CTE: \", sum(cte)/len(cte))\n",
    "print(\"Mentions alternative qualifications: \", sum(alt_qual)/len(alt_qual))\n",
    "print(\"Mentions out-of-subject certified teachers: \", sum(out_of_subject)/len(out_of_subject))"
   ]
  }
 ],
 "metadata": {
  "kernelspec": {
   "display_name": "Python 3 (ipykernel)",
   "language": "python",
   "name": "python3"
  },
  "language_info": {
   "codemirror_mode": {
    "name": "ipython",
    "version": 3
   },
   "file_extension": ".py",
   "mimetype": "text/x-python",
   "name": "python",
   "nbconvert_exporter": "python",
   "pygments_lexer": "ipython3",
   "version": "3.9.16"
  }
 },
 "nbformat": 4,
 "nbformat_minor": 2
}
